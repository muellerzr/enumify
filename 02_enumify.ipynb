{
 "cells": [
  {
   "cell_type": "code",
   "execution_count": null,
   "metadata": {},
   "outputs": [],
   "source": [
    "#default_exp enumify"
   ]
  },
  {
   "cell_type": "markdown",
   "metadata": {},
   "source": [
    "# Enumify\n",
    "\n",
    "> The magic decorator for Enums"
   ]
  },
  {
   "cell_type": "code",
   "execution_count": null,
   "metadata": {},
   "outputs": [],
   "source": [
    "#hide\n",
    "from nbdev.showdoc import *"
   ]
  },
  {
   "cell_type": "markdown",
   "metadata": {},
   "source": [
    "## Enumify - \n",
    "\n",
    "The goal with `Enumify` is two fold:\n",
    "\n",
    "1. Quickly generate `Enums` who have members of their names without needing to repeat itself\n",
    "2. Be able to document these `Enums` as well, when the matter is needed. \n",
    "\n",
    "These behaviors slightly change based on the expected end-environment, so be sure to read carefully which annotation you should use"
   ]
  },
  {
   "cell_type": "code",
   "execution_count": null,
   "metadata": {},
   "outputs": [],
   "source": [
    "#hide\n",
    "from fastcore.test import test_eq"
   ]
  },
  {
   "cell_type": "code",
   "execution_count": null,
   "metadata": {},
   "outputs": [],
   "source": [
    "#export\n",
    "from enumify.typing import Mem, Member\n",
    "from enumify.enum import FunctionalEnum, DocumentedEnum\n",
    "from functools import partial"
   ]
  },
  {
   "cell_type": "code",
   "execution_count": null,
   "metadata": {},
   "outputs": [],
   "source": [
    "#export\n",
    "def assign_annotations(cls, interactive:bool=True):\n",
    "    \"\"\"\n",
    "    Creates a FunctionalEnum or DocumentedEnum based on annotations and asserts in `cls`\n",
    "    \n",
    "    Args:\n",
    "      cls:\n",
    "        A general class to be converted to an Enum\n",
    "      interactive (`bool`), default `False`\n",
    "        Whether the enum is being made for a Jupyter environment or not,\n",
    "        and should set `__doc__`\n",
    "    \"\"\"\n",
    "    # First filter out all but what we need: doc, annotations, and set members\n",
    "    d = dict(cls.__dict__)\n",
    "    _keep = [\"__doc__\", \"__annotations__\"]\n",
    "    for key in list(d):\n",
    "        if key.startswith(\"_\") and key not in _keep:\n",
    "            d.pop(key, None)\n",
    "            \n",
    "    names = [] # Names for our enum\n",
    "    keys = []\n",
    "    for name, typ in d[\"__annotations__\"].items():\n",
    "        if not typ == Mem or not typ == Member:\n",
    "            continue\n",
    "        value = name.lower()\n",
    "        if not interactive:\n",
    "            names.append([name, value])\n",
    "        else:\n",
    "            names.append([name, (value, getattr(cls, name, \"An enumeration.\"))])\n",
    "        keys.append(name)\n",
    "        \n",
    "    for name in d:\n",
    "        if name not in keys and not name.startswith(\"_\"):\n",
    "            if not interactive:\n",
    "                names.append([name, getattr(cls, name)])\n",
    "            else:\n",
    "                value = getattr(cls, name)\n",
    "                if isinstance(value, tuple):\n",
    "                    value, doc = value\n",
    "                else:\n",
    "                    doc = \"An enumeration.\"\n",
    "                names.append([name, (value, doc)])\n",
    "            keys.append(name)\n",
    "    if not interactive:\n",
    "        new_cls = FunctionalEnum(value=cls.__name__, names=names)\n",
    "        new_cls.__doc__ = cls.__doc__\n",
    "    else:\n",
    "        new_cls = DocumentedEnum(value=cls.__name__, names=names)\n",
    "        new_cls.__doc__ = cls.__doc__\n",
    "    return new_cls"
   ]
  },
  {
   "cell_type": "code",
   "execution_count": null,
   "metadata": {},
   "outputs": [],
   "source": [
    "class DaysOfWeek:\n",
    "    MONDAY:Member = \"First day of the week\"\n",
    "    WEDNESDAY = \"Wed\", \"Third day of the week\"\n",
    "    THURSDAY:int = 0\n",
    "\n",
    "NewAnnotation = assign_annotations(DaysOfWeek, interactive=True)\n",
    "test_eq(NewAnnotation.MONDAY, \"monday\")\n",
    "test_eq(NewAnnotation.MONDAY.__doc__, \"First day of the week\")\n",
    "test_eq(NewAnnotation.WEDNESDAY, \"Wed\")\n",
    "test_eq(NewAnnotation.WEDNESDAY.__doc__, \"Third day of the week\")\n",
    "test_eq(NewAnnotation.THURSDAY, 0)\n",
    "test_eq(NewAnnotation.THURSDAY.__doc__, \"An enumeration.\")"
   ]
  },
  {
   "cell_type": "code",
   "execution_count": null,
   "metadata": {},
   "outputs": [],
   "source": [
    "class DaysOfWeek:\n",
    "    MONDAY:Member\n",
    "    WEDNESDAY = \"Wed\"\n",
    "    THURSDAY:int = 0\n",
    "\n",
    "NewAnnotation = assign_annotations(DaysOfWeek, interactive=False)\n",
    "test_eq(NewAnnotation.MONDAY, \"monday\")\n",
    "test_eq(NewAnnotation.MONDAY.__doc__, None)\n",
    "test_eq(NewAnnotation.WEDNESDAY, \"Wed\")\n",
    "test_eq(NewAnnotation.WEDNESDAY.__doc__, None)\n",
    "test_eq(NewAnnotation.THURSDAY, 0)\n",
    "test_eq(NewAnnotation.THURSDAY.__doc__, None)"
   ]
  },
  {
   "cell_type": "code",
   "execution_count": null,
   "metadata": {},
   "outputs": [],
   "source": [
    "class DaysOfWeek:\n",
    "    MONDAY:Member\n",
    "    WEDNESDAY:Member\n",
    "    THURSDAY:Member\n",
    "\n",
    "NewAnnotation = assign_annotations(DaysOfWeek, interactive=False)\n",
    "test_eq(NewAnnotation.MONDAY, \"monday\")\n",
    "test_eq(NewAnnotation.MONDAY.__doc__, None)\n",
    "test_eq(NewAnnotation.WEDNESDAY, \"wednesday\")\n",
    "test_eq(NewAnnotation.WEDNESDAY.__doc__, None)\n",
    "test_eq(NewAnnotation.THURSDAY, \"thursday\")\n",
    "test_eq(NewAnnotation.THURSDAY.__doc__, None)"
   ]
  },
  {
   "cell_type": "code",
   "execution_count": null,
   "metadata": {},
   "outputs": [],
   "source": [
    "#export\n",
    "def enumify(cls=None, interactive:bool=True):\n",
    "    \"\"\"\n",
    "    A decorator to turn `cls` into an Enum class with member values as property names, and potentially with documentation\n",
    "    \n",
    "    If the end result should be used in a notebook, pass `interactive=True` to have the \n",
    "    documentation linked to the enum. Otherwise `False`.\n",
    "    \n",
    "    Should be documented with the `Member` type with the following annotation if the end result should be in jupyter:\n",
    "    ```python\n",
    "    from enumify.typing import Member\n",
    "    @enumify\n",
    "    class MyClass:\n",
    "      NAME:Member\n",
    "      name_three:Member = \"some value\", \"Some documentation\"\n",
    "    ```\n",
    "    And the following if targeting environments such as VSCode:\n",
    "    ```python\n",
    "    from enumify.typing import Member\n",
    "    @enumify(interactive=False)\n",
    "    class MyClass:\n",
    "      NAME:Member\n",
    "      name_three:Member = \"some value\"\n",
    "      \"Some documentation\"\n",
    "    ```\n",
    "    \n",
    "    Can also use the shorthand `Mem` type.\n",
    "    \"\"\"\n",
    "    def wrap(cls, interactive): return assign_annotations(cls, interactive)\n",
    "    if cls is None:\n",
    "        return partial(enumify, interactive=interactive)\n",
    "    return wrap(cls, interactive)"
   ]
  },
  {
   "cell_type": "code",
   "execution_count": null,
   "metadata": {},
   "outputs": [],
   "source": [
    "@enumify\n",
    "class DaysOfWeek:\n",
    "    MONDAY:Member = \"First day of the week\"\n",
    "    WEDNESDAY = \"Wed\", \"Third day of the week\"\n",
    "    THURSDAY:int = 0\n",
    "    \n",
    "test_eq(DaysOfWeek.MONDAY, \"monday\")\n",
    "test_eq(DaysOfWeek.MONDAY.__doc__, \"First day of the week\")\n",
    "test_eq(DaysOfWeek.WEDNESDAY, \"Wed\")\n",
    "test_eq(DaysOfWeek.WEDNESDAY.__doc__, \"Third day of the week\")\n",
    "test_eq(DaysOfWeek.THURSDAY, 0)\n",
    "test_eq(DaysOfWeek.THURSDAY.__doc__, \"An enumeration.\")"
   ]
  },
  {
   "cell_type": "code",
   "execution_count": null,
   "metadata": {},
   "outputs": [],
   "source": [
    "@enumify(interactive=False)\n",
    "class DaysOfWeek:\n",
    "    MONDAY:Member\n",
    "    WEDNESDAY = \"Wed\"\n",
    "    THURSDAY:int = 0\n",
    "    \n",
    "test_eq(DaysOfWeek.MONDAY, \"monday\")\n",
    "test_eq(DaysOfWeek.MONDAY.__doc__, None)\n",
    "test_eq(DaysOfWeek.WEDNESDAY, \"Wed\")\n",
    "test_eq(DaysOfWeek.WEDNESDAY.__doc__, None)\n",
    "test_eq(DaysOfWeek.THURSDAY, 0)\n",
    "test_eq(DaysOfWeek.THURSDAY.__doc__, None)"
   ]
  }
 ],
 "metadata": {
  "kernelspec": {
   "display_name": "Python 3 (ipykernel)",
   "language": "python",
   "name": "python3"
  }
 },
 "nbformat": 4,
 "nbformat_minor": 4
}
