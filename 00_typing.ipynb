{
 "cells": [
  {
   "cell_type": "code",
   "execution_count": null,
   "metadata": {},
   "outputs": [],
   "source": [
    "#default_exp typing"
   ]
  },
  {
   "cell_type": "markdown",
   "metadata": {},
   "source": [
    "# Typing\n",
    "\n",
    "> The base types for documenting members of an Enum"
   ]
  },
  {
   "cell_type": "code",
   "execution_count": null,
   "metadata": {},
   "outputs": [],
   "source": [
    "#hide\n",
    "from nbdev.showdoc import *"
   ]
  },
  {
   "cell_type": "code",
   "execution_count": null,
   "metadata": {},
   "outputs": [],
   "source": [
    "#export\n",
    "class Member:\n",
    "    \"\"\"Annotation-only type, should be used with `@enumify` decorator\n",
    "    \n",
    "    Used to denote when a member will be of type `str`,\n",
    "    with the value being its member name in lowercase.\n",
    "    \"\"\"\n",
    "    def __init__(self, *args):\n",
    "        raise TypeError(\"Member is a documentation type, cannot be instantiated\")\n",
    "        \n",
    "Mem = Member"
   ]
  },
  {
   "cell_type": "code",
   "execution_count": null,
   "metadata": {},
   "outputs": [
    {
     "data": {
      "text/markdown": [
       "<h2 id=\"Mem\" class=\"doc_header\"><code>class</code> <code>Mem</code><a href=\"\" class=\"source_link\" style=\"float:right\">[source]</a></h2>\n",
       "\n",
       "> <code>Mem</code>(**\\*`args`**)\n",
       "\n",
       "Annotation-only type, should be used with `@enumify` decorator\n",
       "\n",
       "Used to denote when a member will be of type `str`,\n",
       "with the value being its member name in lowercase."
      ],
      "text/plain": [
       "<IPython.core.display.Markdown object>"
      ]
     },
     "metadata": {},
     "output_type": "display_data"
    }
   ],
   "source": [
    "show_doc(Mem, name=\"Mem\")"
   ]
  },
  {
   "cell_type": "code",
   "execution_count": null,
   "metadata": {},
   "outputs": [],
   "source": [
    "from fastcore.test import ExceptionExpected\n",
    "\n",
    "with ExceptionExpected(TypeError, \"Member is a documentation type, cannot be instantiated\"):\n",
    "    t = Member()\n",
    "\n",
    "with ExceptionExpected(TypeError, \"Member is a documentation type, cannot be instantiated\"):\n",
    "    t = Mem()"
   ]
  }
 ],
 "metadata": {
  "kernelspec": {
   "display_name": "Python 3 (ipykernel)",
   "language": "python",
   "name": "python3"
  }
 },
 "nbformat": 4,
 "nbformat_minor": 4
}
