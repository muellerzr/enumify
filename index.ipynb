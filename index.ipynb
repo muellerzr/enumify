{
 "cells": [
  {
   "cell_type": "markdown",
   "metadata": {},
   "source": [
    "# Enumify\n",
    "\n",
    "> A quick way to write documented Enums, or Enums with member values"
   ]
  },
  {
   "cell_type": "markdown",
   "metadata": {},
   "source": [
    "## Install"
   ]
  },
  {
   "cell_type": "markdown",
   "metadata": {},
   "source": [
    "`pip install enumify`"
   ]
  },
  {
   "cell_type": "markdown",
   "metadata": {},
   "source": [
    "## What is Enumify?"
   ]
  },
  {
   "cell_type": "markdown",
   "metadata": {},
   "source": [
    "Enumify was built on an idea of how could I be the absolute laziest at declaring Enums, honestly!\n",
    "\n",
    "I didn't enjoy the idea of how I would need to re-type out member names if I just wanted them to be a 1:1, such as the following:"
   ]
  },
  {
   "cell_type": "code",
   "execution_count": null,
   "metadata": {},
   "outputs": [],
   "source": [
    "import enum\n",
    "\n",
    "class DaysOfWeek(enum.Enum):\n",
    "    MONDAY = \"monday\"\n",
    "    TUESDAY = \"tuesday\"\n",
    "    WEDNESDAY = \"wednesday\""
   ]
  },
  {
   "cell_type": "markdown",
   "metadata": {},
   "source": [
    "There is of course, an alternative that lives in `fastcore`, specifically the `mk_class`, which annotates like the following:\n",
    "```python\n",
    "from fastcore.basics import mk_class\n",
    "mk_class(\"DaysOfWeek\", {o:o.lower() for o in [\"MONDAY\", \"TUESDAY\", \"WEDNESDAY\"]})\n",
    "```\n",
    "\n",
    "But I didn't like that the `DaysOfWeek` class was permeable as it was not a true `Enum`, and I had a side goal of also making the enum members be **documented**.\n",
    "\n",
    "As a result, this is our finished conversion of that previous enum:"
   ]
  },
  {
   "cell_type": "code",
   "execution_count": null,
   "metadata": {},
   "outputs": [
    {
     "ename": "AttributeError",
     "evalue": "type object 'DaysOfWeek' has no attribute 'MONDAY'",
     "output_type": "error",
     "traceback": [
      "\u001b[0;31m---------------------------------------------------------------------------\u001b[0m",
      "\u001b[0;31mAttributeError\u001b[0m                            Traceback (most recent call last)",
      "Input \u001b[0;32mIn [2]\u001b[0m, in \u001b[0;36m<module>\u001b[0;34m\u001b[0m\n\u001b[1;32m      1\u001b[0m \u001b[38;5;28;01mfrom\u001b[39;00m \u001b[38;5;21;01menumify\u001b[39;00m \u001b[38;5;28;01mimport\u001b[39;00m enumify, Member\n\u001b[1;32m      3\u001b[0m \u001b[38;5;129;43m@enumify\u001b[39;49m\n\u001b[0;32m----> 4\u001b[0m \u001b[38;5;28;43;01mclass\u001b[39;49;00m\u001b[43m \u001b[49m\u001b[38;5;21;43;01mDaysOfWeek\u001b[39;49;00m\u001b[43m:\u001b[49m\n\u001b[1;32m      5\u001b[0m \u001b[43m    \u001b[49m\u001b[43mMONDAY\u001b[49m\u001b[43m:\u001b[49m\u001b[43mMember\u001b[49m\n\u001b[1;32m      6\u001b[0m \u001b[43m    \u001b[49m\u001b[43mTUESDAY\u001b[49m\u001b[43m:\u001b[49m\u001b[43mMember\u001b[49m\n",
      "File \u001b[0;32m~/local/zach/enumify/enumify/enumify.py:92\u001b[0m, in \u001b[0;36menumify\u001b[0;34m(cls, interactive)\u001b[0m\n\u001b[1;32m     90\u001b[0m \u001b[38;5;28;01mif\u001b[39;00m \u001b[38;5;28mcls\u001b[39m \u001b[38;5;129;01mis\u001b[39;00m \u001b[38;5;28;01mNone\u001b[39;00m:\n\u001b[1;32m     91\u001b[0m     \u001b[38;5;28;01mreturn\u001b[39;00m partial(enumify, interactive\u001b[38;5;241m=\u001b[39minteractive)\n\u001b[0;32m---> 92\u001b[0m \u001b[38;5;28;01mreturn\u001b[39;00m \u001b[43mwrap\u001b[49m\u001b[43m(\u001b[49m\u001b[38;5;28;43mcls\u001b[39;49m\u001b[43m,\u001b[49m\u001b[43m \u001b[49m\u001b[43minteractive\u001b[49m\u001b[43m)\u001b[49m\n",
      "File \u001b[0;32m~/local/zach/enumify/enumify/enumify.py:89\u001b[0m, in \u001b[0;36menumify.<locals>.wrap\u001b[0;34m(cls, interactive)\u001b[0m\n\u001b[0;32m---> 89\u001b[0m \u001b[38;5;28;01mdef\u001b[39;00m \u001b[38;5;21mwrap\u001b[39m(\u001b[38;5;28mcls\u001b[39m, interactive): \u001b[38;5;28;01mreturn\u001b[39;00m \u001b[43massign_annotations\u001b[49m\u001b[43m(\u001b[49m\u001b[38;5;28;43mcls\u001b[39;49m\u001b[43m,\u001b[49m\u001b[43m \u001b[49m\u001b[43minteractive\u001b[49m\u001b[43m)\u001b[49m\n",
      "File \u001b[0;32m~/local/zach/enumify/enumify/enumify.py:38\u001b[0m, in \u001b[0;36massign_annotations\u001b[0;34m(cls, interactive)\u001b[0m\n\u001b[1;32m     36\u001b[0m         names\u001b[38;5;241m.\u001b[39mappend([name, value])\n\u001b[1;32m     37\u001b[0m     \u001b[38;5;28;01melse\u001b[39;00m:\n\u001b[0;32m---> 38\u001b[0m         names\u001b[38;5;241m.\u001b[39mappend([name, (value, \u001b[38;5;28;43mgetattr\u001b[39;49m\u001b[43m(\u001b[49m\u001b[38;5;28;43mcls\u001b[39;49m\u001b[43m,\u001b[49m\u001b[43m \u001b[49m\u001b[43mname\u001b[49m\u001b[43m)\u001b[49m)])\n\u001b[1;32m     39\u001b[0m     keys\u001b[38;5;241m.\u001b[39mappend(name)\n\u001b[1;32m     41\u001b[0m \u001b[38;5;28;01mfor\u001b[39;00m name \u001b[38;5;129;01min\u001b[39;00m d:\n",
      "\u001b[0;31mAttributeError\u001b[0m: type object 'DaysOfWeek' has no attribute 'MONDAY'"
     ]
    }
   ],
   "source": [
    "from enumify import enumify, Member\n",
    "\n",
    "@enumify\n",
    "class DaysOfWeek:\n",
    "    MONDAY:Member\n",
    "    TUESDAY:Member\n",
    "    WEDNESDAY:Member"
   ]
  },
  {
   "cell_type": "markdown",
   "metadata": {},
   "source": [
    "And we can see its set value below:"
   ]
  },
  {
   "cell_type": "code",
   "execution_count": null,
   "metadata": {},
   "outputs": [
    {
     "name": "stdout",
     "output_type": "stream",
     "text": [
      "monday\n"
     ]
    }
   ],
   "source": [
    "print(DaysOfWeek.MONDAY)"
   ]
  },
  {
   "cell_type": "markdown",
   "metadata": {},
   "source": [
    "Thus we come to the two use-cases of `enumify`:\n",
    "- Make Enum's whose member's values are the names of the members\n",
    "- Make Enum's whose members can be *documented*"
   ]
  },
  {
   "cell_type": "markdown",
   "metadata": {},
   "source": [
    "## How do I use it?"
   ]
  },
  {
   "cell_type": "markdown",
   "metadata": {},
   "source": [
    "There are two supported \"modes\" for `enumify`, an interactive mode and a static mode. The static mode should be used when you're in environments such as VSCode or PyLint, where they can make use of documentation underneath a particular variable or member. \n",
    "\n",
    "Interactive mode should be if you are developing or working out of Jupyter Notebook for your enums.\n",
    "\n",
    "What do I mean by this? Let's compare two examples."
   ]
  },
  {
   "cell_type": "markdown",
   "metadata": {},
   "source": [
    "### Interactive Mode\n",
    "\n",
    "With interactive mode, we can not only use the `Member` or `Mem` notation to specify our self-named member, but we can also document that member with an assign:"
   ]
  },
  {
   "cell_type": "code",
   "execution_count": null,
   "metadata": {},
   "outputs": [],
   "source": [
    "@enumify(interactive=True)\n",
    "class DaysOfWeek:\n",
    "    MONDAY:Member = \"The first day of the week\"\n",
    "    TUESDAY:Member = \"The second day of the week\"\n",
    "    WEDNESDAY:Member = \"The third day of the week\""
   ]
  },
  {
   "cell_type": "markdown",
   "metadata": {},
   "source": [
    "And now these members will have affiliated documentation:"
   ]
  },
  {
   "cell_type": "code",
   "execution_count": null,
   "metadata": {},
   "outputs": [
    {
     "data": {
      "text/plain": [
       "'The first day of the week'"
      ]
     },
     "execution_count": null,
     "metadata": {},
     "output_type": "execute_result"
    }
   ],
   "source": [
    "DaysOfWeek.MONDAY.__doc__"
   ]
  },
  {
   "cell_type": "markdown",
   "metadata": {},
   "source": [
    "We can even document values that aren't `Member` type by specifying it's documentation last in the assign"
   ]
  },
  {
   "cell_type": "code",
   "execution_count": null,
   "metadata": {},
   "outputs": [],
   "source": [
    "@enumify(interactive=True)\n",
    "class DaysOfWeek:\n",
    "    MONDAY:Member = \"The first day of the week\"\n",
    "    TUESDAY:int = 0, \"Some number\""
   ]
  },
  {
   "cell_type": "code",
   "execution_count": null,
   "metadata": {},
   "outputs": [
    {
     "data": {
      "text/plain": [
       "'Some number'"
      ]
     },
     "execution_count": null,
     "metadata": {},
     "output_type": "execute_result"
    }
   ],
   "source": [
    "DaysOfWeek.TUESDAY.__doc__"
   ]
  },
  {
   "cell_type": "markdown",
   "metadata": {},
   "source": [
    "**BUT**, they will *not* have this documentation show when using IDE's such as VSCode. This is where static mode comes in."
   ]
  },
  {
   "cell_type": "markdown",
   "metadata": {},
   "source": [
    "### Static Mode\n",
    "\n",
    "With static mode, we can still use the `Member` annotation, but we assume that the user will be working out of an IDE and instead rely on how IDE's can annotate variables.\n",
    "\n",
    "> Note: If so, it will be impossible for Jupyter/Notebook users to pick up your documentation for the member\n",
    "\n",
    "Below is our complete `DaysOfWeek` example with this:"
   ]
  },
  {
   "cell_type": "code",
   "execution_count": null,
   "metadata": {},
   "outputs": [],
   "source": [
    "@enumify(interactive=False)\n",
    "class DaysOfWeek:\n",
    "    MONDAY:Member\n",
    "    \"The first day of the week\"\n",
    "    TUESDAY:Member\n",
    "    \"The second day of the week\"\n",
    "    WEDNESDAY:Member\n",
    "    \"The third day of the week\""
   ]
  },
  {
   "cell_type": "code",
   "execution_count": null,
   "metadata": {},
   "outputs": [
    {
     "data": {
      "text/plain": [
       "<DaysOfWeek.MONDAY: 'monday'>"
      ]
     },
     "execution_count": null,
     "metadata": {},
     "output_type": "execute_result"
    }
   ],
   "source": [
    "DaysOfWeek.MONDAY"
   ]
  },
  {
   "cell_type": "code",
   "execution_count": null,
   "metadata": {},
   "outputs": [],
   "source": [
    "assert DaysOfWeek.MONDAY.__doc__ is None"
   ]
  }
 ],
 "metadata": {
  "kernelspec": {
   "display_name": "Python 3 (ipykernel)",
   "language": "python",
   "name": "python3"
  }
 },
 "nbformat": 4,
 "nbformat_minor": 4
}
