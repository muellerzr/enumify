{
 "cells": [
  {
   "cell_type": "markdown",
   "metadata": {},
   "source": [
    "# Enumify\n",
    "\n",
    "> A quick way to write documented Enums, or Enums with member values"
   ]
  },
  {
   "cell_type": "markdown",
   "metadata": {},
   "source": [
    "## Install"
   ]
  },
  {
   "cell_type": "markdown",
   "metadata": {},
   "source": [
    "`pip install enumify`"
   ]
  },
  {
   "cell_type": "markdown",
   "metadata": {},
   "source": [
    "## What is Enumify?"
   ]
  },
  {
   "cell_type": "markdown",
   "metadata": {},
   "source": [
    "Enumify was built on an idea of how could I be the absolute laziest at declaring Enums, honestly!\n",
    "\n",
    "I didn't enjoy the idea of how I would need to re-type out member names if I just wanted them to be a 1:1, such as the following:"
   ]
  },
  {
   "cell_type": "code",
   "execution_count": null,
   "metadata": {},
   "outputs": [],
   "source": [
    "import enum\n",
    "\n",
    "class DaysOfWeek(enum.Enum):\n",
    "    MONDAY = \"monday\"\n",
    "    TUESDAY = \"tuesday\"\n",
    "    WEDNESDAY = \"wednesday\""
   ]
  },
  {
   "cell_type": "markdown",
   "metadata": {},
   "source": [
    "There is of course, an alternative that lives in `fastcore`, specifically the `mk_class`, which annotates like the following:\n",
    "```python\n",
    "from fastcore.basics import mk_class\n",
    "mk_class(\"DaysOfWeek\", {o:o.lower() for o in [\"MONDAY\", \"TUESDAY\", \"WEDNESDAY\"]})\n",
    "```\n",
    "\n",
    "But I didn't like that the `DaysOfWeek` class was permeable as it was not a true `Enum`, and I had a side goal of also making the enum members be **documented**.\n",
    "\n",
    "As a result, this is our finished conversion of that previous enum:"
   ]
  },
  {
   "cell_type": "code",
   "execution_count": null,
   "metadata": {},
   "outputs": [],
   "source": [
    "from enumify import enumify, Member\n",
    "\n",
    "@enumify\n",
    "class DaysOfWeek:\n",
    "    MONDAY:Member\n",
    "    TUESDAY:Member\n",
    "    WEDNESDAY:Member"
   ]
  },
  {
   "cell_type": "markdown",
   "metadata": {},
   "source": [
    "And we can see its set value below:"
   ]
  },
  {
   "cell_type": "code",
   "execution_count": null,
   "metadata": {},
   "outputs": [
    {
     "name": "stdout",
     "output_type": "stream",
     "text": [
      "monday\n"
     ]
    }
   ],
   "source": [
    "print(DaysOfWeek.MONDAY)"
   ]
  },
  {
   "cell_type": "markdown",
   "metadata": {},
   "source": [
    "Thus we come to the two use-cases of `enumify`:\n",
    "- Make Enum's whose member's values are the names of the members\n",
    "- Make Enum's whose members can be *documented*"
   ]
  },
  {
   "cell_type": "markdown",
   "metadata": {},
   "source": [
    "## How do I use it?"
   ]
  },
  {
   "cell_type": "markdown",
   "metadata": {},
   "source": [
    "There are two supported \"modes\" for `enumify`, an interactive mode and a static mode. The static mode should be used when you're in environments such as VSCode or PyLint, where they can make use of documentation underneath a particular variable or member. \n",
    "\n",
    "Interactive mode should be if you are developing or working out of Jupyter Notebook for your enums.\n",
    "\n",
    "What do I mean by this? Let's compare two examples."
   ]
  },
  {
   "cell_type": "markdown",
   "metadata": {},
   "source": [
    "### Interactive Mode\n",
    "\n",
    "With interactive mode, we can not only use the `Member` or `Mem` notation to specify our self-named member, but we can also document that member with an assign:"
   ]
  },
  {
   "cell_type": "code",
   "execution_count": null,
   "metadata": {},
   "outputs": [],
   "source": [
    "@enumify(interactive=True)\n",
    "class DaysOfWeek:\n",
    "    MONDAY:Member = \"The first day of the week\"\n",
    "    TUESDAY:Member = \"The second day of the week\"\n",
    "    WEDNESDAY:Member = \"The third day of the week\""
   ]
  },
  {
   "cell_type": "markdown",
   "metadata": {},
   "source": [
    "And now these members will have affiliated documentation:"
   ]
  },
  {
   "cell_type": "code",
   "execution_count": null,
   "metadata": {},
   "outputs": [
    {
     "data": {
      "text/plain": [
       "'The first day of the week'"
      ]
     },
     "execution_count": null,
     "metadata": {},
     "output_type": "execute_result"
    }
   ],
   "source": [
    "DaysOfWeek.MONDAY.__doc__"
   ]
  },
  {
   "cell_type": "markdown",
   "metadata": {},
   "source": [
    "We can even document values that aren't `Member` type by specifying it's documentation last in the assign"
   ]
  },
  {
   "cell_type": "code",
   "execution_count": null,
   "metadata": {},
   "outputs": [],
   "source": [
    "@enumify(interactive=True)\n",
    "class DaysOfWeek:\n",
    "    MONDAY:Member = \"The first day of the week\"\n",
    "    TUESDAY:int = 0, \"Some number\""
   ]
  },
  {
   "cell_type": "code",
   "execution_count": null,
   "metadata": {},
   "outputs": [
    {
     "data": {
      "text/plain": [
       "'Some number'"
      ]
     },
     "execution_count": null,
     "metadata": {},
     "output_type": "execute_result"
    }
   ],
   "source": [
    "DaysOfWeek.TUESDAY.__doc__"
   ]
  },
  {
   "cell_type": "markdown",
   "metadata": {},
   "source": [
    "**BUT**, they will *not* have this documentation show when using IDE's such as VSCode. This is where static mode comes in."
   ]
  },
  {
   "cell_type": "markdown",
   "metadata": {},
   "source": [
    "### Static Mode\n",
    "\n",
    "With static mode, we can still use the `Member` annotation, but we assume that the user will be working out of an IDE and instead rely on how IDE's can annotate variables.\n",
    "\n",
    "> Note: If so, it will be impossible for Jupyter/Notebook users to pick up your documentation for the member\n",
    "\n",
    "Below is our complete `DaysOfWeek` example with this:"
   ]
  },
  {
   "cell_type": "code",
   "execution_count": null,
   "metadata": {},
   "outputs": [],
   "source": [
    "@enumify(interactive=False)\n",
    "class DaysOfWeek:\n",
    "    MONDAY:Member\n",
    "    \"The first day of the week\"\n",
    "    TUESDAY:Member\n",
    "    \"The second day of the week\"\n",
    "    WEDNESDAY:Member\n",
    "    \"The third day of the week\""
   ]
  },
  {
   "cell_type": "code",
   "execution_count": null,
   "metadata": {},
   "outputs": [
    {
     "data": {
      "text/plain": [
       "<DaysOfWeek.MONDAY: 'monday'>"
      ]
     },
     "execution_count": null,
     "metadata": {},
     "output_type": "execute_result"
    }
   ],
   "source": [
    "DaysOfWeek.MONDAY"
   ]
  },
  {
   "cell_type": "code",
   "execution_count": null,
   "metadata": {},
   "outputs": [],
   "source": [
    "assert DaysOfWeek.MONDAY.__doc__ is None"
   ]
  }
 ],
 "metadata": {
  "kernelspec": {
   "display_name": "Python 3 (ipykernel)",
   "language": "python",
   "name": "python3"
  }
 },
 "nbformat": 4,
 "nbformat_minor": 4
}
