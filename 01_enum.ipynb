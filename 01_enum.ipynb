{
 "cells": [
  {
   "cell_type": "code",
   "execution_count": null,
   "metadata": {},
   "outputs": [],
   "source": [
    "# default_exp enum"
   ]
  },
  {
   "cell_type": "markdown",
   "metadata": {},
   "source": [
    "# Enum\n",
    "\n",
    "> Various useful `Enum` types, including an enum that can be documented"
   ]
  },
  {
   "cell_type": "code",
   "execution_count": null,
   "metadata": {},
   "outputs": [],
   "source": [
    "#hide\n",
    "from nbdev.showdoc import *"
   ]
  },
  {
   "cell_type": "code",
   "execution_count": null,
   "metadata": {},
   "outputs": [],
   "source": [
    "#export\n",
    "import enum\n",
    "from enumify.typing import Member, Mem"
   ]
  },
  {
   "cell_type": "code",
   "execution_count": null,
   "metadata": {},
   "outputs": [],
   "source": [
    "from fastcore.test import ExceptionExpected\n",
    "with ExceptionExpected(TypeError, \"Member is a documentation type, cannot be instantiated\"):\n",
    "    t = Member()\n",
    "\n",
    "with ExceptionExpected(TypeError, \"Member is a documentation type, cannot be instantiated\"):\n",
    "    t = Mem()"
   ]
  },
  {
   "cell_type": "code",
   "execution_count": null,
   "metadata": {},
   "outputs": [],
   "source": [
    "#export\n",
    "class _FunctionalMeta(enum.EnumMeta):\n",
    "    \"An enum metaclass with a better repr\"\n",
    "    def __repr__(cls): return f\"<FunctionalEnum {cls.__name__}>\""
   ]
  },
  {
   "cell_type": "code",
   "execution_count": null,
   "metadata": {},
   "outputs": [],
   "source": [
    "#export\n",
    "class FunctionalEnum(enum.Enum, metaclass=_FunctionalMeta):\n",
    "    \"\"\"\n",
    "    An `Enum` class implementing `__ne__`, `__eq__`, and `__str__` to compare `self.value`.\n",
    "    \n",
    "    Compatible with the functional API.\n",
    "    \"\"\"\n",
    "    def __str__(self): return str(self.value)\n",
    "    def __eq__(self, other): return getattr(other, \"value\", other) == self.value\n",
    "    def __ne__(self, other): return getattr(other, \"value\", other) != self.value"
   ]
  },
  {
   "cell_type": "code",
   "execution_count": null,
   "metadata": {},
   "outputs": [],
   "source": [
    "from fastcore.test import test_eq\n",
    "_da = [[\"zero\", 0], [\"one\", 1]]\n",
    "\n",
    "_d = FunctionalEnum(\"test_enum\", _da)\n",
    "test_eq(hasattr(_d, \"zero\"), True)\n",
    "test_eq(str(_d.zero), \"0\")\n",
    "test_eq(_d.zero == 0, True)\n",
    "\n",
    "test_eq(hasattr(_d, \"one\"), True)\n",
    "test_eq(str(_d.one), \"1\")\n",
    "test_eq(_d.one == 1, True)"
   ]
  },
  {
   "cell_type": "code",
   "execution_count": null,
   "metadata": {},
   "outputs": [],
   "source": [
    "#export\n",
    "class _DocumentedMeta(_FunctionalMeta):\n",
    "    \"An enum metaclass with a better repr\"\n",
    "    def __repr__(cls): return f\"<DocumentedEnum {cls.__name__}>\""
   ]
  },
  {
   "cell_type": "code",
   "execution_count": null,
   "metadata": {},
   "outputs": [],
   "source": [
    "#export\n",
    "class DocumentedEnum(FunctionalEnum, metaclass=_DocumentedMeta):\n",
    "    \"\"\"\n",
    "    An `Enum` capabile of having its members have docstrings.\n",
    "    \n",
    "    Inherits `FunctionalEnum` to allow for logic comparison via `==`, `!=`,\n",
    "    and string transformation of `self.value` via str(self).\n",
    "    \n",
    "    Docstrings must *always* be present when in use.\n",
    "    \n",
    "    Should be passed in the form of:\n",
    "      value, docstring\n",
    "    \"\"\"\n",
    "    def __init__(self, *args):\n",
    "        if args[-1] is not None:\n",
    "            self.__doc__ = args[-1]\n",
    "        if len(args) > 1:\n",
    "            self._value_ = args[0]\n",
    "        else:\n",
    "            self._value_ = None"
   ]
  },
  {
   "cell_type": "code",
   "execution_count": null,
   "metadata": {},
   "outputs": [],
   "source": [
    "_da = [[\"addition\", (\"addition\", \"Sum of two numbers\")], [\"subtraction\", (\"Some documentation\")], [\"multiplication\", (\"multiplication\", None)]]\n",
    "\n",
    "_d = DocumentedEnum(\"test_enum\", _da)\n",
    "test_eq(hasattr(_d, \"addition\"), True)\n",
    "test_eq(str(_d.addition), \"addition\")\n",
    "test_eq(_d.addition.__doc__, \"Sum of two numbers\")\n",
    "test_eq(_d.addition == \"addition\", True)\n",
    "\n",
    "test_eq(str(_d.subtraction), str(None))\n",
    "test_eq(_d.subtraction.__doc__, \"Some documentation\")\n",
    "test_eq(_d.subtraction != \"addition\", True)\n",
    "\n",
    "test_eq(str(_d.multiplication), \"multiplication\")\n",
    "test_eq(_d.multiplication.__doc__, \"An enumeration.\")\n",
    "test_eq(_d.multiplication != \"addition\", True)"
   ]
  }
 ],
 "metadata": {
  "kernelspec": {
   "display_name": "Python 3 (ipykernel)",
   "language": "python",
   "name": "python3"
  }
 },
 "nbformat": 4,
 "nbformat_minor": 4
}
